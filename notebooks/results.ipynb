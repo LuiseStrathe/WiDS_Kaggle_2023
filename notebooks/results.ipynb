{
 "cells": [
  {
   "attachments": {},
   "cell_type": "markdown",
   "metadata": {},
   "source": [
    "# CREATE RESULT FILE FOR UPLOAD"
   ]
  },
  {
   "cell_type": "code",
   "execution_count": 1,
   "metadata": {},
   "outputs": [
    {
     "name": "stderr",
     "output_type": "stream",
     "text": [
      "/home/luise/anaconda3/envs/ML/lib/python3.10/site-packages/xgboost/compat.py:36: FutureWarning: pandas.Int64Index is deprecated and will be removed from pandas in a future version. Use pandas.Index with the appropriate dtype instead.\n",
      "  from pandas import MultiIndex, Int64Index\n",
      "2023-01-31 17:47:22.704860: I tensorflow/core/platform/cpu_feature_guard.cc:193] This TensorFlow binary is optimized with oneAPI Deep Neural Network Library (oneDNN) to use the following CPU instructions in performance-critical operations:  SSE4.1 SSE4.2 AVX AVX2 AVX_VNNI FMA\n",
      "To enable them in other operations, rebuild TensorFlow with the appropriate compiler flags.\n"
     ]
    }
   ],
   "source": [
    "#import libraries\n",
    "import pandas as pd\n",
    "import numpy as np\n",
    "import os\n",
    "import pickle\n",
    "from xmlrpc.client import boolean\n",
    "import xgboost\n",
    "import tensorflow as tf\n",
    "import keras"
   ]
  },
  {
   "cell_type": "code",
   "execution_count": 4,
   "metadata": {},
   "outputs": [
    {
     "name": "stdout",
     "output_type": "stream",
     "text": [
      "x_predict.shape: (31354, 69)\n"
     ]
    }
   ],
   "source": [
    "#load data\n",
    "version_data = \"001\"\n",
    "\n",
    "path_data = f'../data/preprocessed/{version_data}/' \n",
    "x_predict = np.load(f'{path_data}X_predict.npy', allow_pickle=True) \n",
    "print(f'x_predict.shape: {x_predict.shape}')\n",
    "\n",
    "x_orig = pd.read_csv('../data/raw/sample_solution.csv')"
   ]
  },
  {
   "cell_type": "markdown",
   "metadata": {},
   "source": [
    "Make prediction"
   ]
  },
  {
   "cell_type": "code",
   "execution_count": 5,
   "metadata": {},
   "outputs": [],
   "source": [
    "#load model from json\n",
    "\n",
    "version_model = \"xgboost__001__03\"\n",
    "model = pickle.load(open(f'../models/{version_model}/model.pkl', 'rb'))\n",
    "#np.load(f'../models/{version_model}/model.json', allow_pickle=True)\n",
    "\n",
    "#predict\n",
    "y_pred = model.predict(x_predict)\n",
    "\n",
    "#save results\n",
    "result = pd.DataFrame(columns=['index', 'contest-tmp2m-14d__tmp2m'])\n",
    "result['index'] = x_orig['index']\n",
    "result['contest-tmp2m-14d__tmp2m'] = y_pred\n",
    "result.to_csv(f'../results/result_{version_model}.csv', index=False)"
   ]
  }
 ],
 "metadata": {
  "kernelspec": {
   "display_name": "ML",
   "language": "python",
   "name": "python3"
  },
  "language_info": {
   "codemirror_mode": {
    "name": "ipython",
    "version": 3
   },
   "file_extension": ".py",
   "mimetype": "text/x-python",
   "name": "python",
   "nbconvert_exporter": "python",
   "pygments_lexer": "ipython3",
   "version": "3.10.9"
  },
  "orig_nbformat": 4,
  "vscode": {
   "interpreter": {
    "hash": "6da07facdf973c4dbc8723adb4472dbf7f63b6a0b884708ce567b8eaca67ed69"
   }
  }
 },
 "nbformat": 4,
 "nbformat_minor": 2
}
