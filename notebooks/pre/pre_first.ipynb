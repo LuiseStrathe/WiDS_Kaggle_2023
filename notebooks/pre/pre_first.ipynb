{
 "cells": [
  {
   "attachments": {},
   "cell_type": "markdown",
   "metadata": {},
   "source": [
    "# DATA PREPROCESSING - FIRST"
   ]
  },
  {
   "cell_type": "code",
   "execution_count": null,
   "metadata": {},
   "outputs": [],
   "source": [
    "version_ID = 'first'"
   ]
  },
  {
   "cell_type": "code",
   "execution_count": 1,
   "metadata": {},
   "outputs": [],
   "source": [
    "#import libraries\n",
    "import numpy as np\n",
    "import pandas as pd\n",
    "import sklearn \n",
    "from sklearn.model_selection import train_test_split\n",
    "from random import shuffle\n",
    "import os\n",
    "from os import path\n",
    "import time\n",
    "import warnings\n"
   ]
  },
  {
   "cell_type": "markdown",
   "metadata": {},
   "source": [
    "### Preprocess data for Training and Model Selection (Train & Validation & Test)\n",
    "\n",
    "TRAIN.SCV"
   ]
  },
  {
   "cell_type": "code",
   "execution_count": 2,
   "metadata": {},
   "outputs": [
    {
     "name": "stdout",
     "output_type": "stream",
     "text": [
      "                index       lat       lon  contest-pevpr-sfc-gauss-14d__pevpr  \\\n",
      "mean    187815.244352  0.592658  0.518061                          276.734118   \n",
      "std     108466.905409  0.251740  0.272093                          198.054535   \n",
      "median  187706.000000  0.590909  0.533333                          250.390000   \n",
      "\n",
      "        nmme0-tmp2m-34w__cancm30  nmme0-tmp2m-34w__cancm40  \\\n",
      "mean                   10.810185                 12.736341   \n",
      "std                    10.956833                 11.079325   \n",
      "median                  9.950000                 11.890000   \n",
      "\n",
      "        nmme0-tmp2m-34w__ccsm30  nmme0-tmp2m-34w__ccsm40  \\\n",
      "mean                  10.106994                11.645961   \n",
      "std                   10.340406                10.579823   \n",
      "median                 9.490000                11.620000   \n",
      "\n",
      "        nmme0-tmp2m-34w__cfsv20  nmme0-tmp2m-34w__gfdlflora0  ...  \\\n",
      "mean                  10.741099                    11.781627  ...   \n",
      "std                    9.407989                    10.694239  ...   \n",
      "median                10.900000                    11.290000  ...   \n",
      "\n",
      "        wind-vwnd-925-2010-11  wind-vwnd-925-2010-12  wind-vwnd-925-2010-13  \\\n",
      "mean                -1.157851              -8.124698               6.802576   \n",
      "std                 37.318177              36.219289              38.446347   \n",
      "median              -3.200000              -9.390000               2.330000   \n",
      "\n",
      "        wind-vwnd-925-2010-14  wind-vwnd-925-2010-15  wind-vwnd-925-2010-16  \\\n",
      "mean                19.256250             -17.767549              -9.875310   \n",
      "std                 25.288436              31.933681              34.175115   \n",
      "median              20.050000             -16.780000              -8.560000   \n",
      "\n",
      "        wind-vwnd-925-2010-17  wind-vwnd-925-2010-18  wind-vwnd-925-2010-19  \\\n",
      "mean                -6.248111              16.024679              10.509747   \n",
      "std                 27.038035              25.853666              25.044187   \n",
      "median              -6.030000              18.650000              11.860000   \n",
      "\n",
      "        wind-vwnd-925-2010-20  \n",
      "mean                11.281845  \n",
      "std                 25.102799  \n",
      "median              11.650000  \n",
      "\n",
      "[3 rows x 244 columns]\n"
     ]
    },
    {
     "name": "stderr",
     "output_type": "stream",
     "text": [
      "/tmp/ipykernel_19307/2830725560.py:8: FutureWarning: ['startdate', 'climateregions__climateregion'] did not aggregate successfully. If any error is raised this will raise in a future version of pandas. Drop these columns/ops to avoid this warning.\n",
      "  norm_paras = X_train_input.agg(['mean', 'std', 'median'])\n"
     ]
    }
   ],
   "source": [
    "#import dataset\n",
    "X = pd.read_csv('../../data/raw/train_data.csv.zip')\n",
    "\n",
    "#split dataset into train and test\n",
    "X_train_input, X_test_input = train_test_split(X, test_size=0.2, random_state=42, shuffle=True)\n",
    "\n",
    "#get parameters for normalization --> avoid data leekage\n",
    "norm_paras = X_train_input.agg(['mean', 'std', 'median'])\n",
    "#print(norm_paras)"
   ]
  },
  {
   "cell_type": "markdown",
   "metadata": {},
   "source": [
    "Preprocessing pipeline"
   ]
  },
  {
   "cell_type": "code",
   "execution_count": 3,
   "metadata": {},
   "outputs": [],
   "source": [
    "def preprocess(X, norm_paras=norm_paras):\n",
    "\n",
    "    length = X.shape[0]\n",
    "    print(f'sample size: {length}')\n",
    "    \n",
    "    #warnings.filterwarnings('ignore')\n",
    "    target = 'contest-tmp2m-14d__tmp2m'\n",
    "\n",
    "    #extract y\n",
    "    if target in X.columns.values:\n",
    "        y = X[target].to_numpy()\n",
    "        X = X.drop(labels=target, axis=1)\n",
    "        print(\"(y extracted)\")\n",
    "    else:    y = None\n",
    "\n",
    "    # convert date (str -> float)\n",
    "    dates = pd.to_datetime(X.startdate).tolist()\n",
    "    for i in range(length):\n",
    "        new = pd.to_datetime(dates[i]).timetuple()\n",
    "        dates[i] = time.mktime(new)\n",
    "        \n",
    "        \n",
    "    X['startdate'] = dates\n",
    "    print(\"(Startdate converted)\")\n",
    "    \n",
    "    #normalize numerical variables and fill missing values\n",
    "    numerical = norm_paras.columns[norm_paras.columns != target]\n",
    "    for col in numerical:\n",
    "        X[col].fillna(norm_paras[col]['median'], inplace=True)\n",
    "        X[col] = (X[col] - norm_paras[col]['mean']) / norm_paras[col]['std']\n",
    "        X[col] = np.float32(X[col])\n",
    "    \n",
    "    #one-hot-encode categorical variables\n",
    "    X = pd.get_dummies(X, columns=['climateregions__climateregion'])\n",
    "    \n",
    "    #drop columns\n",
    "    drops = []\n",
    "    X = X.drop(labels=drops, axis=1)\n",
    "    #change to numpy array\n",
    "    X_final = X.to_numpy()\n",
    "\n",
    "    #info\n",
    "    print(\"This is an extract of df after preprocessing:\")\n",
    "    print(f\"Shape X: {X_final.shape}, Shape y: {y.shape if y is not None else None}\")\n",
    "    print(X.info())\n",
    "\n",
    "    return X_final, y"
   ]
  },
  {
   "cell_type": "code",
   "execution_count": 4,
   "metadata": {},
   "outputs": [
    {
     "name": "stdout",
     "output_type": "stream",
     "text": [
      "sample size: 300587\n",
      "(y extracted)\n",
      "(Startdate converted)\n",
      "This is an extract of df after preprocessing:\n",
      "Shape X: (300587, 259), Shape y: (300587,)\n",
      "<class 'pandas.core.frame.DataFrame'>\n",
      "Int64Index: 300587 entries, 242935 to 121958\n",
      "Columns: 259 entries, index to climateregions__climateregion_Dwb\n",
      "dtypes: float32(243), float64(1), uint8(15)\n",
      "memory usage: 287.5 MB\n",
      "None\n"
     ]
    }
   ],
   "source": [
    "# preprocess train.csv\n",
    "X_train, y_train = preprocess(X_train_input)"
   ]
  },
  {
   "cell_type": "code",
   "execution_count": 5,
   "metadata": {},
   "outputs": [
    {
     "name": "stdout",
     "output_type": "stream",
     "text": [
      "sample size: 75147\n",
      "(y extracted)\n",
      "(Startdate converted)\n",
      "This is an extract of df after preprocessing:\n",
      "Shape X: (75147, 259), Shape y: (75147,)\n",
      "<class 'pandas.core.frame.DataFrame'>\n",
      "Int64Index: 75147 entries, 363717 to 212790\n",
      "Columns: 259 entries, index to climateregions__climateregion_Dwb\n",
      "dtypes: float32(243), float64(1), uint8(15)\n",
      "memory usage: 71.9 MB\n",
      "None\n"
     ]
    }
   ],
   "source": [
    "X_test, y_test = preprocess(X_test_input)"
   ]
  },
  {
   "cell_type": "code",
   "execution_count": 6,
   "metadata": {},
   "outputs": [
    {
     "name": "stdout",
     "output_type": "stream",
     "text": [
      "sample size: 31354\n",
      "(Startdate converted)\n",
      "This is an extract of df after preprocessing:\n",
      "Shape X: (31354, 259), Shape y: None\n",
      "<class 'pandas.core.frame.DataFrame'>\n",
      "RangeIndex: 31354 entries, 0 to 31353\n",
      "Columns: 259 entries, index to climateregions__climateregion_Dwb\n",
      "dtypes: float32(243), float64(1), uint8(15)\n",
      "memory usage: 29.8 MB\n",
      "None\n"
     ]
    }
   ],
   "source": [
    "# preprocess test.csv\n",
    "\n",
    "X_prediction = pd.read_csv('../data/raw/test_data.csv.zip')\n",
    "X_prediction, _ = preprocess(X_prediction)"
   ]
  },
  {
   "cell_type": "code",
   "execution_count": 7,
   "metadata": {},
   "outputs": [
    {
     "name": "stdout",
     "output_type": "stream",
     "text": [
      "class:  ndarray\n",
      "shape:  (75147, 259)\n",
      "strides:  (8, 601176)\n",
      "itemsize:  8\n",
      "aligned:  True\n",
      "contiguous:  False\n",
      "fortran:  True\n",
      "data pointer: 0x7efccab9c010\n",
      "byteorder:  little\n",
      "byteswap:  False\n",
      "type: float64\n"
     ]
    }
   ],
   "source": [
    "np.info(X_test)"
   ]
  },
  {
   "cell_type": "code",
   "execution_count": 8,
   "metadata": {},
   "outputs": [
    {
     "data": {
      "text/plain": [
       "(31354, 259)"
      ]
     },
     "execution_count": 8,
     "metadata": {},
     "output_type": "execute_result"
    }
   ],
   "source": [
    "X_prediction.shape"
   ]
  },
  {
   "cell_type": "code",
   "execution_count": 9,
   "metadata": {},
   "outputs": [
    {
     "data": {
      "text/plain": [
       "array([[ 1.73249853e+00, -2.35424924e+00,  1.15869439e+00,\n",
       "         1.66725720e+09,  3.18830788e-01,  1.83171678e+00,\n",
       "         1.64122438e+00,  1.84354532e+00,  1.83122528e+00,\n",
       "         1.99074435e+00,  1.79053164e+00,  1.76269960e+00,\n",
       "         1.87401891e+00,  1.46039569e+00,  1.78361952e+00,\n",
       "         4.70474124e-01,  1.56262636e+00,  1.47284222e+00,\n",
       "         1.57756865e+00,  1.48593760e+00,  1.80036592e+00,\n",
       "         1.55793643e+00,  1.50246501e+00,  1.62771654e+00,\n",
       "         1.28008270e+00,  1.55021274e+00,  5.32361209e-01,\n",
       "        -2.55347162e-01, -1.66224828e-03, -6.80841982e-01,\n",
       "         3.51670361e-03,  6.03631586e-02, -6.21231735e-01,\n",
       "         1.35406196e-01,  4.19668317e-01,  3.38014483e-01,\n",
       "        -1.05244897e-01,  1.50680697e+00,  4.98238564e-01,\n",
       "        -5.69388270e-01, -5.96465290e-01, -9.96786833e-01,\n",
       "        -8.39475244e-02, -9.86811221e-01, -1.08370769e+00,\n",
       "        -1.12020671e+00, -1.38977438e-01, -6.82521582e-01,\n",
       "        -4.73532349e-01,  4.48357701e-01, -7.67971635e-01,\n",
       "        -7.25004554e-01,  4.48590010e-01, -2.36861542e-01,\n",
       "        -1.65822938e-01, -8.66508961e-01,  1.38851672e-01,\n",
       "        -3.17644089e-01, -4.05035764e-01,  1.01034856e+00,\n",
       "         1.84558004e-01,  6.20302297e-02, -6.26895189e-01,\n",
       "         4.89850082e-02,  9.00891051e-02,  1.77619800e-01,\n",
       "         2.38994971e-01,  4.87249196e-01,  8.22185501e-02,\n",
       "         8.15724283e-02,  1.45881128e+00, -2.07233739e+00,\n",
       "         1.59226847e+00,  1.43714821e+00,  1.65774369e+00,\n",
       "         1.52697027e+00,  1.76384342e+00,  1.56459999e+00,\n",
       "         1.61675501e+00,  1.59085274e+00,  1.28863108e+00,\n",
       "         1.57188272e+00,  3.18942904e+00, -4.59779769e-01,\n",
       "         3.70181829e-01,  1.72645319e+00, -3.18967152e+00,\n",
       "         1.52121460e+00,  1.70181525e+00,  1.84083641e+00,\n",
       "         1.83188999e+00,  1.88955212e+00,  1.98962116e+00,\n",
       "         1.86640668e+00,  1.88825834e+00,  1.92317569e+00,\n",
       "         1.45268190e+00,  1.82403505e+00, -1.31275773e+00,\n",
       "        -1.08632910e+00,  1.70010364e+00, -1.83821654e+00,\n",
       "        -1.07836592e+00,  3.91614348e-01, -1.18360803e-01,\n",
       "        -2.04154897e+00,  2.59938812e+00,  5.24415016e-01,\n",
       "         7.39836514e-01,  4.07872856e-01, -2.59936657e-02,\n",
       "         5.50293267e-01,  1.69654444e-01, -1.15556097e+00,\n",
       "        -1.86654150e+00, -1.78983676e+00,  1.23521411e+00,\n",
       "         1.07130802e+00, -4.49928820e-01,  1.21775663e+00,\n",
       "        -5.50575890e-02,  1.34664130e+00,  1.22517228e+00,\n",
       "         5.70576727e-01, -2.56211787e-01, -4.34639931e-01,\n",
       "        -4.03266490e-01,  4.98009324e-01,  8.47411215e-01,\n",
       "         1.17873943e+00, -1.16920865e+00, -7.42155790e-01,\n",
       "        -3.91734302e-01, -8.03848028e-01, -2.21332610e-01,\n",
       "        -1.77337658e+00,  1.48828733e+00,  1.35710347e+00,\n",
       "        -1.38881755e+00, -1.52195382e+00, -8.42375636e-01,\n",
       "        -1.59414899e+00, -2.26744270e+00, -1.85994768e+00,\n",
       "        -5.47616899e-01, -4.03344345e+00, -4.52712059e-01,\n",
       "         1.00807846e+00,  2.40308642e+00,  4.90488201e-01,\n",
       "        -9.49709952e-01, -6.85724542e-02, -5.22834659e-01,\n",
       "         3.24164033e-01,  1.67229748e+00,  9.99162972e-01,\n",
       "         5.26232600e-01,  2.05712938e+00,  1.37941062e-01,\n",
       "        -9.18720067e-01, -1.55508971e+00, -8.73433709e-01,\n",
       "         1.65672496e-01,  6.02931142e-01, -1.30853641e+00,\n",
       "        -2.38251162e+00,  1.61068812e-01, -1.96658623e+00,\n",
       "         1.59993541e+00, -4.24124330e-01, -7.55815953e-02,\n",
       "         8.14280152e-01, -3.57272238e-01,  2.01993918e+00,\n",
       "        -1.00010061e+00,  7.41809487e-01,  5.64201809e-02,\n",
       "        -3.46005976e-01, -9.66312349e-01, -1.26195595e-01,\n",
       "        -1.12151831e-01,  3.07961375e-01,  7.46326923e-01,\n",
       "         1.05395392e-02,  1.08769011e+00, -2.23229694e+00,\n",
       "        -7.58316755e-01,  2.01665983e-01, -5.34415185e-01,\n",
       "         2.53906631e+00,  1.40128836e-01, -4.53995466e-01,\n",
       "         5.22743225e-01,  9.06387031e-01,  5.32599270e-01,\n",
       "         1.38437891e+00, -2.75961659e-03,  1.34942234e+00,\n",
       "         1.24435639e+00,  3.75668913e-01,  7.96811938e-01,\n",
       "        -5.49437821e-01, -1.43641496e+00, -9.93905723e-01,\n",
       "        -8.32153499e-01, -4.85194534e-01,  2.08119369e+00,\n",
       "        -5.85503876e-01,  8.78004313e-01,  8.63194287e-01,\n",
       "        -5.73262751e-01, -4.45145577e-01,  1.35731792e+00,\n",
       "         4.94517624e-01, -1.13567579e+00, -6.42057538e-01,\n",
       "         2.65670806e-01,  1.24960768e+00,  1.77031398e+00,\n",
       "        -2.59760231e-01,  4.03832085e-02,  3.80861044e-01,\n",
       "         1.57077050e+00, -7.60980248e-01, -5.62222123e-01,\n",
       "         3.05575776e+00, -1.08715288e-01, -1.63784194e+00,\n",
       "         5.57995558e-01,  3.71019751e-01, -9.34631228e-01,\n",
       "        -5.11756003e-01, -2.05816174e+00, -2.35031843e-01,\n",
       "        -4.85611856e-01, -8.73714089e-01, -9.37737346e-01,\n",
       "         8.55084538e-01,  2.96162188e-01,  7.25244403e-01,\n",
       "        -6.79483116e-01,  5.81167936e-01, -1.36557627e+00,\n",
       "        -1.99652851e-01,  1.00000000e+00,  0.00000000e+00,\n",
       "         0.00000000e+00,  0.00000000e+00,  0.00000000e+00,\n",
       "         0.00000000e+00,  0.00000000e+00,  0.00000000e+00,\n",
       "         0.00000000e+00,  0.00000000e+00,  0.00000000e+00,\n",
       "         0.00000000e+00,  0.00000000e+00,  0.00000000e+00,\n",
       "         0.00000000e+00],\n",
       "       [ 1.73250771e+00, -2.35424924e+00,  1.15869439e+00,\n",
       "         1.66734360e+09,  2.92322934e-01,  1.83171678e+00,\n",
       "         1.64122438e+00,  1.84354532e+00,  1.83122528e+00,\n",
       "         1.99074435e+00,  1.79053164e+00,  1.76269960e+00,\n",
       "         1.87401891e+00,  1.46039569e+00,  1.78361952e+00,\n",
       "         4.63500977e-01,  1.56262636e+00,  1.47284222e+00,\n",
       "         1.57756865e+00,  1.48593760e+00,  1.80036592e+00,\n",
       "         1.55793643e+00,  1.50246501e+00,  1.62771654e+00,\n",
       "         1.28008270e+00,  1.55021274e+00,  5.26040494e-01,\n",
       "        -2.55347162e-01, -1.66224828e-03, -6.80841982e-01,\n",
       "         3.51670361e-03,  6.03631586e-02, -6.21231735e-01,\n",
       "         1.35406196e-01,  4.19668317e-01,  3.38014483e-01,\n",
       "        -1.05244897e-01,  1.49431109e+00,  4.98238564e-01,\n",
       "        -5.69388270e-01, -5.96465290e-01, -9.96786833e-01,\n",
       "        -8.39475244e-02, -9.86811221e-01, -1.08370769e+00,\n",
       "        -1.12020671e+00, -1.38977438e-01, -6.82521582e-01,\n",
       "        -4.73532349e-01,  4.48357701e-01, -7.67971635e-01,\n",
       "        -7.25004554e-01,  4.48590010e-01, -2.36861542e-01,\n",
       "        -1.65822938e-01, -8.66508961e-01,  1.38851672e-01,\n",
       "        -3.17644089e-01, -3.83818001e-01,  1.05823910e+00,\n",
       "         1.84558004e-01,  6.20302297e-02, -6.26895189e-01,\n",
       "         4.89850082e-02,  9.00891051e-02,  1.77619800e-01,\n",
       "         2.38994971e-01,  4.87249196e-01,  8.22185501e-02,\n",
       "         8.15724283e-02,  1.46047080e+00, -2.13905692e+00,\n",
       "         1.59226847e+00,  1.43714821e+00,  1.65774369e+00,\n",
       "         1.52697027e+00,  1.76384342e+00,  1.56459999e+00,\n",
       "         1.61675501e+00,  1.59085274e+00,  1.28863108e+00,\n",
       "         1.57188272e+00,  3.17224193e+00, -4.04752553e-01,\n",
       "         1.40798226e-01,  1.75183558e+00, -3.26035023e+00,\n",
       "         1.52920842e+00,  1.70181525e+00,  1.84083641e+00,\n",
       "         1.83188999e+00,  1.88955212e+00,  1.98962116e+00,\n",
       "         1.86640668e+00,  1.88825834e+00,  1.92317569e+00,\n",
       "         1.45268190e+00,  1.82403505e+00, -1.31275773e+00,\n",
       "        -9.82870340e-01,  1.92903566e+00, -1.84606600e+00,\n",
       "        -1.20422387e+00,  1.29638374e-01,  5.55126816e-02,\n",
       "        -2.09188175e+00,  2.64746284e+00,  6.50168538e-01,\n",
       "         6.92097127e-01,  4.51763868e-01,  7.09622875e-02,\n",
       "         5.40204823e-01,  3.54494691e-01, -1.07862294e+00,\n",
       "        -2.01209354e+00, -1.69111907e+00,  1.30063701e+00,\n",
       "         1.32833731e+00, -4.40331995e-01,  1.21169090e+00,\n",
       "        -1.20220914e-01,  1.51924419e+00,  1.22497606e+00,\n",
       "         5.50138295e-01, -3.00978690e-01, -4.38544065e-01,\n",
       "        -4.23772216e-01,  7.39277303e-01,  6.40607715e-01,\n",
       "         1.26407099e+00, -9.93676126e-01, -8.29566777e-01,\n",
       "        -5.05951762e-01, -7.52557099e-01, -1.62607834e-01,\n",
       "        -1.85974073e+00,  1.46551418e+00,  1.20593989e+00,\n",
       "        -1.32004738e+00,  1.58414197e+00, -1.36628997e+00,\n",
       "        -1.59414899e+00, -2.26744270e+00, -1.85994768e+00,\n",
       "        -5.24958253e-01, -3.97440290e+00, -5.37351608e-01,\n",
       "         7.99737394e-01,  2.55115676e+00,  6.46638036e-01,\n",
       "        -6.41182065e-01, -1.89014480e-01, -4.15396661e-01,\n",
       "         1.68415159e-01,  1.66790485e+00,  1.01478863e+00,\n",
       "         5.20773232e-01,  1.98811030e+00,  1.21844679e-01,\n",
       "        -9.56057549e-01, -1.56978691e+00, -1.07205689e+00,\n",
       "         1.15531914e-01,  7.29743481e-01, -1.27696037e+00,\n",
       "        -2.33230925e+00,  8.96240845e-02, -1.82178032e+00,\n",
       "         1.91637158e+00, -3.96515757e-01,  8.95625949e-02,\n",
       "         5.86207986e-01, -2.84343988e-01,  1.99033689e+00,\n",
       "        -1.00010061e+00,  7.41809487e-01,  5.64201809e-02,\n",
       "        -3.46005976e-01, -9.66312349e-01, -1.26195595e-01,\n",
       "        -1.12151831e-01,  3.07961375e-01,  7.46326923e-01,\n",
       "         1.05395392e-02,  1.08048618e+00, -2.39365339e+00,\n",
       "        -8.80107522e-01,  2.72960067e-01, -3.82849753e-01,\n",
       "         2.42001581e+00, -6.83848485e-02, -6.16174996e-01,\n",
       "         4.26034212e-01,  9.41347957e-01,  5.94930410e-01,\n",
       "         1.27373052e+00,  1.51252508e-01,  1.39096332e+00,\n",
       "         9.25660670e-01,  2.96137214e-01,  7.00473547e-01,\n",
       "        -4.24484402e-01, -1.45951140e+00, -1.00019085e+00,\n",
       "        -8.15472960e-01, -5.04328489e-01,  2.13684058e+00,\n",
       "        -5.87045968e-01,  7.95132220e-01,  8.28537107e-01,\n",
       "        -4.97767746e-01, -5.00074327e-01,  1.36181056e+00,\n",
       "         7.15576470e-01, -1.11757207e+00, -6.56284213e-01,\n",
       "         2.95483023e-01,  1.17239010e+00,  1.83779299e+00,\n",
       "        -3.16556424e-01,  3.28542501e-01,  3.92084062e-01,\n",
       "         1.41844392e+00, -7.21891761e-01, -5.78596652e-01,\n",
       "         2.89427090e+00, -4.07788157e-01, -1.78085697e+00,\n",
       "         8.10070634e-01,  3.24717462e-01, -8.35551381e-01,\n",
       "        -6.63061261e-01, -1.99511325e+00,  2.43696552e-02,\n",
       "        -4.93650824e-01, -9.66758430e-01, -9.21350896e-01,\n",
       "         1.03263605e+00,  3.86662245e-01,  7.85522163e-01,\n",
       "        -6.54333353e-01,  4.95686799e-01, -1.24259365e+00,\n",
       "         1.14654735e-01,  1.00000000e+00,  0.00000000e+00,\n",
       "         0.00000000e+00,  0.00000000e+00,  0.00000000e+00,\n",
       "         0.00000000e+00,  0.00000000e+00,  0.00000000e+00,\n",
       "         0.00000000e+00,  0.00000000e+00,  0.00000000e+00,\n",
       "         0.00000000e+00,  0.00000000e+00,  0.00000000e+00,\n",
       "         0.00000000e+00]])"
      ]
     },
     "execution_count": 9,
     "metadata": {},
     "output_type": "execute_result"
    }
   ],
   "source": [
    "X_prediction[:2][:4]"
   ]
  },
  {
   "cell_type": "markdown",
   "metadata": {},
   "source": [
    "---------------\n",
    "\n",
    "# Save dataset --version"
   ]
  },
  {
   "cell_type": "code",
   "execution_count": 10,
   "metadata": {},
   "outputs": [
    {
     "name": "stderr",
     "output_type": "stream",
     "text": [
      "/tmp/ipykernel_19307/1496721358.py:13: FutureWarning: The frame.append method is deprecated and will be removed from pandas in a future version. Use pandas.concat instead.\n",
      "  overview = overview.append({'version_ID': version_ID, 'version_note': version_note, 'timestamp': timestamp},\n",
      "/tmp/ipykernel_19307/1496721358.py:15: FutureWarning: Passing a set as an indexer is deprecated and will raise in a future version. Use a list instead.\n",
      "  overview = overview[{'version_ID', 'version_note', 'timestamp'}]\n",
      "/tmp/ipykernel_19307/1496721358.py:16: SettingWithCopyWarning: \n",
      "A value is trying to be set on a copy of a slice from a DataFrame\n",
      "\n",
      "See the caveats in the documentation: https://pandas.pydata.org/pandas-docs/stable/user_guide/indexing.html#returning-a-view-versus-a-copy\n",
      "  overview.drop_duplicates(inplace=True)\n"
     ]
    }
   ],
   "source": [
    "# prepare folder and info file for dataset versions\n",
    "\n",
    "version_note = '__'\n",
    "timestamp = time.strftime(\"on %Y_%m_%d at %H_%M\")\n",
    "\n",
    "overview = pd.read_csv('../data/preprocessed/dataset_overview.csv')\n",
    "\n",
    "if not os.path.exists(f'../data/preprocessed/{version_ID}'):\n",
    "        os.mkdir(f'../data/preprocessed/{version_ID}')\n",
    "\n",
    "#append to overview logs\n",
    "overview = overview.append({'version_ID': version_ID, 'version_note': version_note, 'timestamp': timestamp}, \n",
    "                                ignore_index=True)\n",
    "overview = overview[{'version_ID', 'version_note', 'timestamp'}]\n",
    "overview.drop_duplicates(inplace=True)\n",
    "overview.to_csv('../data/preprocessed/dataset_overview.csv')\n",
    "\n",
    "# save preprocessed data\n",
    "np.save(f'../data/preprocessed/{version_ID}/X_train.npy', X_train)\n",
    "np.save(f'../data/preprocessed/{version_ID}/X_test.npy', X_test)\n",
    "np.save(f'../data/preprocessed/{version_ID}/y_train.npy', y_train)\n",
    "np.save(f'../data/preprocessed/{version_ID}/y_test.npy', y_test)\n",
    "np.save(f'../data/preprocessed/{version_ID}/X_predict.npy', X_prediction)"
   ]
  },
  {
   "cell_type": "code",
   "execution_count": 11,
   "metadata": {},
   "outputs": [
    {
     "data": {
      "text/html": [
       "<div>\n",
       "<style scoped>\n",
       "    .dataframe tbody tr th:only-of-type {\n",
       "        vertical-align: middle;\n",
       "    }\n",
       "\n",
       "    .dataframe tbody tr th {\n",
       "        vertical-align: top;\n",
       "    }\n",
       "\n",
       "    .dataframe thead th {\n",
       "        text-align: right;\n",
       "    }\n",
       "</style>\n",
       "<table border=\"1\" class=\"dataframe\">\n",
       "  <thead>\n",
       "    <tr style=\"text-align: right;\">\n",
       "      <th></th>\n",
       "      <th>Unnamed: 0</th>\n",
       "      <th>timestamp</th>\n",
       "      <th>version_note</th>\n",
       "      <th>version_ID</th>\n",
       "    </tr>\n",
       "  </thead>\n",
       "  <tbody>\n",
       "    <tr>\n",
       "      <th>0</th>\n",
       "      <td>0</td>\n",
       "      <td>on 2023_01_06 at 13_15</td>\n",
       "      <td>first</td>\n",
       "      <td>first</td>\n",
       "    </tr>\n",
       "    <tr>\n",
       "      <th>1</th>\n",
       "      <td>1</td>\n",
       "      <td>on 2023_01_06 at 13_35</td>\n",
       "      <td>first</td>\n",
       "      <td>first</td>\n",
       "    </tr>\n",
       "    <tr>\n",
       "      <th>2</th>\n",
       "      <td>2</td>\n",
       "      <td>on 2023_01_06 at 15_27</td>\n",
       "      <td>first</td>\n",
       "      <td>first</td>\n",
       "    </tr>\n",
       "    <tr>\n",
       "      <th>3</th>\n",
       "      <td>3</td>\n",
       "      <td>on 2023_01_06 at 15_47</td>\n",
       "      <td>first</td>\n",
       "      <td>first</td>\n",
       "    </tr>\n",
       "  </tbody>\n",
       "</table>\n",
       "</div>"
      ],
      "text/plain": [
       "   Unnamed: 0               timestamp version_note version_ID\n",
       "0           0  on 2023_01_06 at 13_15        first      first\n",
       "1           1  on 2023_01_06 at 13_35        first      first\n",
       "2           2  on 2023_01_06 at 15_27        first      first\n",
       "3           3  on 2023_01_06 at 15_47        first      first"
      ]
     },
     "execution_count": 11,
     "metadata": {},
     "output_type": "execute_result"
    }
   ],
   "source": [
    "# see overview of existant datasets\n",
    "\n",
    "overview = pd.read_csv('../data/preprocessed/dataset_overview.csv')\n",
    "overview"
   ]
  },
  {
   "cell_type": "code",
   "execution_count": 12,
   "metadata": {},
   "outputs": [],
   "source": [
    "############# use to create new overview-version and DELETE OLD VERSIONS #############\n",
    "\n",
    "#overview = pd.DataFrame(columns=['version_ID', 'version_note', 'timestamp'])\n",
    "#overview.to_csv('../data/preprocessed/dataset_overview.csv')"
   ]
  }
 ],
 "metadata": {
  "kernelspec": {
   "display_name": "DS",
   "language": "python",
   "name": "python3"
  },
  "language_info": {
   "codemirror_mode": {
    "name": "ipython",
    "version": 3
   },
   "file_extension": ".py",
   "mimetype": "text/x-python",
   "name": "python",
   "nbconvert_exporter": "python",
   "pygments_lexer": "ipython3",
   "version": "3.9.12"
  },
  "orig_nbformat": 4,
  "vscode": {
   "interpreter": {
    "hash": "bbbf1d0d915ba715bef6a62f4b2da281d2a77fb0a8998b443c143629fc44899e"
   }
  }
 },
 "nbformat": 4,
 "nbformat_minor": 2
}
