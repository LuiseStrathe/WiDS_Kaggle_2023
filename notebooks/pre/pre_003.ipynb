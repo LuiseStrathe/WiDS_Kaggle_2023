{
 "cells": [
  {
   "attachments": {},
   "cell_type": "markdown",
   "metadata": {},
   "source": [
    "# PREPROCESSING --version 002\n",
    "\n",
    "- date split into summer & running date\n",
    "- PCA on all features\n",
    "\n",
    "\n",
    "----\n"
   ]
  },
  {
   "cell_type": "code",
   "execution_count": 1,
   "metadata": {},
   "outputs": [],
   "source": [
    "version_ID = '003'\n",
    "version_note = '_full_pca_'"
   ]
  },
  {
   "cell_type": "code",
   "execution_count": 23,
   "metadata": {},
   "outputs": [],
   "source": [
    "import numpy as np\n",
    "import pandas as pd\n",
    "import sklearn \n",
    "from sklearn.model_selection import train_test_split\n",
    "from random import shuffle\n",
    "import os\n",
    "from os import path\n",
    "import time\n",
    "import warnings\n",
    "import re\n",
    "from sklearn.decomposition import PCA\n",
    "import matplotlib.pyplot as plt"
   ]
  },
  {
   "attachments": {},
   "cell_type": "markdown",
   "metadata": {},
   "source": [
    "-----\n",
    "\n",
    "### Load datasets"
   ]
  },
  {
   "cell_type": "code",
   "execution_count": 3,
   "metadata": {},
   "outputs": [
    {
     "name": "stdout",
     "output_type": "stream",
     "text": [
      "(300587, 246) (75147, 246)\n"
     ]
    }
   ],
   "source": [
    "#import data\n",
    "X = pd.read_csv('../../data/raw/train_data.csv.zip')\n",
    "summer_weeks = pd.read_csv('../../data/additional/summer_intensity.csv')\n",
    "\n",
    "#split dataset into train and test\n",
    "X_train_input, X_test_input = train_test_split(X, test_size=0.2, random_state=42, shuffle=True)\n",
    "print(X_train_input.shape, X_test_input.shape)"
   ]
  },
  {
   "cell_type": "code",
   "execution_count": 4,
   "metadata": {},
   "outputs": [],
   "source": [
    "# import helper data\n",
    "summer_weeks = pd.read_csv('../../data/additional/summer_intensity.csv')"
   ]
  },
  {
   "attachments": {},
   "cell_type": "markdown",
   "metadata": {},
   "source": [
    "### Prepare columns & NN"
   ]
  },
  {
   "cell_type": "code",
   "execution_count": 5,
   "metadata": {},
   "outputs": [
    {
     "name": "stderr",
     "output_type": "stream",
     "text": [
      "/tmp/ipykernel_10141/264238592.py:2: FutureWarning: ['startdate', 'climateregions__climateregion'] did not aggregate successfully. If any error is raised this will raise in a future version of pandas. Drop these columns/ops to avoid this warning.\n",
      "  norm_paras = X_train_input.agg(['mean', 'std', 'median'])\n"
     ]
    }
   ],
   "source": [
    "#get parameters for normalization --> avoid data leekage\n",
    "norm_paras = X_train_input.agg(['mean', 'std', 'median'])\n",
    "\n",
    "# reduce expanded features\n",
    "collapse = []\n",
    "coll_patt = []\n",
    "\n",
    "for p in coll_patt:\n",
    "    pt = re.compile(p)\n",
    "    collapse += [[c for c in X_train_input.columns if pt.match(c)]]"
   ]
  },
  {
   "cell_type": "code",
   "execution_count": 6,
   "metadata": {},
   "outputs": [],
   "source": [
    "#get drop columns\n",
    "drops = ['startdate']\n",
    "patterns = []\n",
    "\n",
    "for p in patterns:\n",
    "    p = re.compile(p)\n",
    "    drops += [k for k in X_train_input.columns if bool(p.match(k))]\n",
    "#print(len(drops), '\\n', drops)"
   ]
  },
  {
   "cell_type": "code",
   "execution_count": null,
   "metadata": {},
   "outputs": [],
   "source": []
  },
  {
   "attachments": {},
   "cell_type": "markdown",
   "metadata": {},
   "source": [
    "### Preprocessing pipeline"
   ]
  },
  {
   "cell_type": "code",
   "execution_count": 50,
   "metadata": {},
   "outputs": [],
   "source": [
    "def preprocess(X, norm_paras=norm_paras, pca=None):\n",
    "\n",
    "    warnings.filterwarnings(\"ignore\")\n",
    "    length = X.shape[0]\n",
    "    target = 'contest-tmp2m-14d__tmp2m'\n",
    "\n",
    "    # extract y\n",
    "    if target in X.columns.values:\n",
    "        y = X[target].to_numpy()\n",
    "        X = X.drop(labels=target, axis=1)\n",
    "    else:    y = None\n",
    "    \n",
    "    \n",
    "    ############# TRANSFORMATION ###############\n",
    "    print(\"transforming cols...\")\n",
    "    \n",
    "    # collapse expanded features\n",
    "    for i in range(len(coll_patt)):\n",
    "        name = coll_patt[i].strip('.+-')\n",
    "        X[f'{name}_mn'] = X[collapse[i]].mean(axis=1)\n",
    "        X[f'{name}_std'] = X[collapse[i]].std(axis=1)\n",
    "       \n",
    "    # normalize numerical variables and fill missing values\n",
    "    numerical = norm_paras.columns[norm_paras.columns != target]\n",
    "    for col in numerical:\n",
    "        X[col].fillna(norm_paras[col]['median'], inplace=True)\n",
    "        X[col] = (X[col] - norm_paras[col]['mean']) / norm_paras[col]['std']\n",
    "        X[col] = np.float32(X[col])\n",
    "    \n",
    "    # convert date (to time progress & summer intensity)\n",
    "    dates = pd.to_datetime(X.startdate)\n",
    "    # 2014-2016 are translated to [0,1]\n",
    "    X['time_prog'] = [(((d.year - 2014) * 364 + d.month * 30 + d.day) - 9 * 30) / (2 * 364) for d in dates] \n",
    "    X['summer'] = [summer_weeks.loc[summer_weeks.week == d.week].values[0][1] for d in dates] # 0: winter, 1: summer\n",
    "    \n",
    "    # drop columns\n",
    "    X = X.drop(labels=drops, axis=1).copy()\n",
    "    \n",
    "    # one-hot-encode categorical variables\n",
    "    X = pd.get_dummies(X, columns=['climateregions__climateregion'])\n",
    "    \n",
    "    \n",
    "    ################# PCA ####################\n",
    "\n",
    "    n = 100\n",
    "    print(f\"performing PCA from {X.shape[1]} features to {n} dimensions ...\")\n",
    "    \n",
    "    if pca is None:\n",
    "        pca = PCA(n_components=n).fit(X)\n",
    "        \n",
    "        n_all = X.shape[1]\n",
    "        pca_all = PCA(n_components=n_all).fit(X)\n",
    "        plt.bar(range(n_all), pca_all.explained_variance_ratio_,\n",
    "                alpha=0.5,\n",
    "                align='center')\n",
    "        plt.step(range(n_all), np.cumsum(pca_all.explained_variance_ratio_),\n",
    "                where='mid',\n",
    "                color='red')\n",
    "        plt.vlines(n, 0, 1, linestyles='dashed', colors='green')\n",
    "        plt.ylabel('Explained variance ratio')\n",
    "        plt.xlabel('Principal Components')\n",
    "        plt.show()\n",
    "        \n",
    "    X_final = pca.transform(X)\n",
    "\n",
    "\n",
    "    ################# INFO ##################\n",
    "\n",
    "    print(\"PREPROCESSING result:\")\n",
    "    print(f\"  Shape X: {X_final.shape}  || Shape Y: {y.shape if y is not None else None}\")\n",
    "\n",
    "    return X_final, y, X, pca"
   ]
  },
  {
   "attachments": {},
   "cell_type": "markdown",
   "metadata": {},
   "source": [
    "----\n",
    "\n",
    "### PREPROCESSING"
   ]
  },
  {
   "cell_type": "code",
   "execution_count": 52,
   "metadata": {},
   "outputs": [
    {
     "name": "stdout",
     "output_type": "stream",
     "text": [
      "transforming cols...\n",
      "performing PCA from 260 features to 100 dimensions ...\n"
     ]
    },
    {
     "data": {
      "image/png": "[encoded data removed]",
      "text/plain": [
       "<Figure size 640x480 with 1 Axes>"
      ]
     },
     "metadata": {},
     "output_type": "display_data"
    },
    {
     "name": "stdout",
     "output_type": "stream",
     "text": [
      "PREPROCESSING result:\n",
      "  Shape X: (300587, 100)  || Shape Y: (300587,)\n"
     ]
    }
   ],
   "source": [
    "# preprocess train.csv\n",
    "X_train, y_train, X_df, pca = preprocess(X_train_input)"
   ]
  },
  {
   "cell_type": "code",
   "execution_count": 53,
   "metadata": {},
   "outputs": [
    {
     "name": "stdout",
     "output_type": "stream",
     "text": [
      "transforming cols...\n",
      "performing PCA from 260 features to 100 dimensions ...\n",
      "PREPROCESSING result:\n",
      "  Shape X: (75147, 100)  || Shape Y: (75147,)\n"
     ]
    }
   ],
   "source": [
    "X_test, y_test, _, _ = preprocess(X_test_input, pca=pca)"
   ]
  },
  {
   "cell_type": "code",
   "execution_count": 54,
   "metadata": {},
   "outputs": [
    {
     "name": "stdout",
     "output_type": "stream",
     "text": [
      "transforming cols...\n",
      "performing PCA from 260 features to 100 dimensions ...\n",
      "PREPROCESSING result:\n",
      "  Shape X: (31354, 100)  || Shape Y: None\n"
     ]
    }
   ],
   "source": [
    "# preprocess test.csv\n",
    "X_prediction = pd.read_csv('../../data/raw/test_data.csv.zip')\n",
    "X_prediction, _, _, _ = preprocess(X_prediction, pca=pca)"
   ]
  },
  {
   "attachments": {},
   "cell_type": "markdown",
   "metadata": {},
   "source": [
    "---------------\n",
    "\n",
    "# Save dataset \n",
    "--version"
   ]
  },
  {
   "cell_type": "code",
   "execution_count": 55,
   "metadata": {},
   "outputs": [],
   "source": [
    "# prepare folder and info file for dataset versions\n",
    "\n",
    "timestamp = time.strftime(\"on %Y_%m_%d at %H_%M\")\n",
    "\n",
    "overview = pd.read_csv('../../data/preprocessed/dataset_overview.csv')\n",
    "\n",
    "if not os.path.exists(f'../../data/preprocessed/{version_ID}'):\n",
    "        os.mkdir(f'../../data/preprocessed/{version_ID}')\n",
    "\n",
    "#append to overview logs\n",
    "overview = overview.append({'version_ID': version_ID, 'version_note': version_note, 'timestamp': timestamp}, \n",
    "                                ignore_index=True)\n",
    "overview = overview[{'version_ID', 'version_note', 'timestamp'}]\n",
    "overview.drop_duplicates(inplace=True)\n",
    "overview.to_csv('../../data/preprocessed/dataset_overview.csv')\n",
    "\n",
    "# save preprocessed data\n",
    "np.save(f'../../data/preprocessed/{version_ID}/X_train.npy', X_train)\n",
    "np.save(f'../../data/preprocessed/{version_ID}/X_test.npy', X_test)\n",
    "np.save(f'../../data/preprocessed/{version_ID}/y_train.npy', y_train)\n",
    "np.save(f'../../data/preprocessed/{version_ID}/y_test.npy', y_test)\n",
    "np.save(f'../../data/preprocessed/{version_ID}/X_predict.npy', X_prediction)\n",
    "X_df.describe().to_csv(f'../../data/preprocessed/{version_ID}/columns.csv')"
   ]
  },
  {
   "cell_type": "code",
   "execution_count": 56,
   "metadata": {},
   "outputs": [
    {
     "data": {
      "text/html": [
       "<div>\n",
       "<style scoped>\n",
       "    .dataframe tbody tr th:only-of-type {\n",
       "        vertical-align: middle;\n",
       "    }\n",
       "\n",
       "    .dataframe tbody tr th {\n",
       "        vertical-align: top;\n",
       "    }\n",
       "\n",
       "    .dataframe thead th {\n",
       "        text-align: right;\n",
       "    }\n",
       "</style>\n",
       "<table border=\"1\" class=\"dataframe\">\n",
       "  <thead>\n",
       "    <tr style=\"text-align: right;\">\n",
       "      <th></th>\n",
       "      <th>Unnamed: 0</th>\n",
       "      <th>version_note</th>\n",
       "      <th>version_ID</th>\n",
       "      <th>timestamp</th>\n",
       "    </tr>\n",
       "  </thead>\n",
       "  <tbody>\n",
       "    <tr>\n",
       "      <th>0</th>\n",
       "      <td>0</td>\n",
       "      <td>first</td>\n",
       "      <td>first</td>\n",
       "      <td>on 2023_01_06 at 13_15</td>\n",
       "    </tr>\n",
       "    <tr>\n",
       "      <th>1</th>\n",
       "      <td>1</td>\n",
       "      <td>first</td>\n",
       "      <td>first</td>\n",
       "      <td>on 2023_01_06 at 13_35</td>\n",
       "    </tr>\n",
       "    <tr>\n",
       "      <th>2</th>\n",
       "      <td>2</td>\n",
       "      <td>first</td>\n",
       "      <td>first</td>\n",
       "      <td>on 2023_01_06 at 15_27</td>\n",
       "    </tr>\n",
       "    <tr>\n",
       "      <th>3</th>\n",
       "      <td>3</td>\n",
       "      <td>first</td>\n",
       "      <td>first</td>\n",
       "      <td>on 2023_01_06 at 15_47</td>\n",
       "    </tr>\n",
       "    <tr>\n",
       "      <th>4</th>\n",
       "      <td>4</td>\n",
       "      <td>_coldrop_datesplit_</td>\n",
       "      <td>001</td>\n",
       "      <td>on 2023_01_31 at 16_54</td>\n",
       "    </tr>\n",
       "    <tr>\n",
       "      <th>5</th>\n",
       "      <td>5</td>\n",
       "      <td>_pca_</td>\n",
       "      <td>002</td>\n",
       "      <td>on 2023_02_24 at 18_02</td>\n",
       "    </tr>\n",
       "    <tr>\n",
       "      <th>6</th>\n",
       "      <td>6</td>\n",
       "      <td>_full_pca_</td>\n",
       "      <td>003</td>\n",
       "      <td>on 2023_02_25 at 11_10</td>\n",
       "    </tr>\n",
       "    <tr>\n",
       "      <th>7</th>\n",
       "      <td>7</td>\n",
       "      <td>_full_pca_</td>\n",
       "      <td>003</td>\n",
       "      <td>on 2023_02_25 at 11_14</td>\n",
       "    </tr>\n",
       "    <tr>\n",
       "      <th>8</th>\n",
       "      <td>8</td>\n",
       "      <td>_full_pca_</td>\n",
       "      <td>003</td>\n",
       "      <td>on 2023_02_25 at 12_17</td>\n",
       "    </tr>\n",
       "  </tbody>\n",
       "</table>\n",
       "</div>"
      ],
      "text/plain": [
       "   Unnamed: 0         version_note version_ID               timestamp\n",
       "0           0                first      first  on 2023_01_06 at 13_15\n",
       "1           1                first      first  on 2023_01_06 at 13_35\n",
       "2           2                first      first  on 2023_01_06 at 15_27\n",
       "3           3                first      first  on 2023_01_06 at 15_47\n",
       "4           4  _coldrop_datesplit_        001  on 2023_01_31 at 16_54\n",
       "5           5                _pca_        002  on 2023_02_24 at 18_02\n",
       "6           6           _full_pca_        003  on 2023_02_25 at 11_10\n",
       "7           7           _full_pca_        003  on 2023_02_25 at 11_14\n",
       "8           8           _full_pca_        003  on 2023_02_25 at 12_17"
      ]
     },
     "execution_count": 56,
     "metadata": {},
     "output_type": "execute_result"
    }
   ],
   "source": [
    "# see overview of existant datasets\n",
    "\n",
    "overview = pd.read_csv('../../data/preprocessed/dataset_overview.csv')\n",
    "overview"
   ]
  },
  {
   "cell_type": "code",
   "execution_count": 13,
   "metadata": {},
   "outputs": [],
   "source": [
    "############# use to create new overview-version and DELETE OLD VERSIONS #############\n",
    "\n",
    "#overview = pd.DataFrame(columns=['version_ID', 'version_note', 'timestamp'])\n",
    "#overview.to_csv('../data/preprocessed/dataset_overview.csv')"
   ]
  }
 ],
 "metadata": {
  "kernelspec": {
   "display_name": "ML",
   "language": "python",
   "name": "python3"
  },
  "language_info": {
   "codemirror_mode": {
    "name": "ipython",
    "version": 3
   },
   "file_extension": ".py",
   "mimetype": "text/x-python",
   "name": "python",
   "nbconvert_exporter": "python",
   "pygments_lexer": "ipython3",
   "version": "3.10.9"
  },
  "orig_nbformat": 4,
  "vscode": {
   "interpreter": {
    "hash": "6da07facdf973c4dbc8723adb4472dbf7f63b6a0b884708ce567b8eaca67ed69"
   }
  }
 },
 "nbformat": 4,
 "nbformat_minor": 2
}
