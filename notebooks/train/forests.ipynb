{
 "cells": [
  {
   "attachments": {},
   "cell_type": "markdown",
   "metadata": {},
   "source": [
    "# RANDOM BOOSTED FORESTS"
   ]
  },
  {
   "cell_type": "code",
   "execution_count": 1,
   "metadata": {},
   "outputs": [
    {
     "name": "stderr",
     "output_type": "stream",
     "text": [
      "/home/luise/anaconda3/envs/ML/lib/python3.10/site-packages/xgboost/compat.py:36: FutureWarning: pandas.Int64Index is deprecated and will be removed from pandas in a future version. Use pandas.Index with the appropriate dtype instead.\n",
      "  from pandas import MultiIndex, Int64Index\n"
     ]
    }
   ],
   "source": [
    "#import libraries\n",
    "from http.client import ImproperConnectionState\n",
    "import numpy as np\n",
    "import pandas as pd\n",
    "import xgboost as xgb\n",
    "import sklearn \n",
    "from sklearn.model_selection import train_test_split\n",
    "import time\n",
    "#import graphviz\n",
    "import os\n",
    "import pickle"
   ]
  },
  {
   "cell_type": "code",
   "execution_count": 2,
   "metadata": {},
   "outputs": [
    {
     "name": "stdout",
     "output_type": "stream",
     "text": [
      "x_train.shape: (300587, 100)\n",
      "x_test.shape: (75147, 100)\n",
      "y_train.shape: (300587,)\n",
      "y_test.shape: (75147,)\n",
      "x_predict.shape: (31354, 100)\n"
     ]
    }
   ],
   "source": [
    "#load data\n",
    "version_data = \"003\"\n",
    "path_data = f'../../data/preprocessed/{version_data}/' \n",
    "(x_test, x_train, y_test, y_train, x_predict) = [np.load(f'{path_data}{f}.npy', allow_pickle=True) \n",
    "                                                for f in ('X_test', 'X_train', 'y_test', 'y_train',  'X_predict')]\n",
    "\n",
    "print(f'x_train.shape: {x_train.shape}')\n",
    "print(f'x_test.shape: {x_test.shape}')\n",
    "print(f'y_train.shape: {y_train.shape}')\n",
    "print(f'y_test.shape: {y_test.shape}')\n",
    "print(f'x_predict.shape: {x_predict.shape}')"
   ]
  },
  {
   "cell_type": "markdown",
   "metadata": {},
   "source": [
    "### XGBoost\n",
    "--> random boosted forests"
   ]
  },
  {
   "cell_type": "markdown",
   "metadata": {},
   "source": [
    "Train model"
   ]
  },
  {
   "cell_type": "code",
   "execution_count": 3,
   "metadata": {},
   "outputs": [
    {
     "name": "stdout",
     "output_type": "stream",
     "text": [
      "Training duration: 528.0271301269531 sec\n",
      "RMSE:  0.5351610305741148\n"
     ]
    }
   ],
   "source": [
    "#train model\n",
    "xgbo = xgb.XGBRegressor(objective ='reg:squarederror', eval_metric='rmse', n_estimators=300, max_depth=30, learning_rate=0.1, random_state=42)\n",
    "#\n",
    "start_time = time.time()  #track the model development time\n",
    "xgbo.fit(x_train,y_train)\n",
    "end_time = time.time()\n",
    "duration = end_time - start_time\n",
    "\n",
    "print(\"Training duration: %s sec\" % (duration)) \n",
    "\n",
    "#predict\n",
    "y_predict = xgbo.predict(x_test)\n",
    "RMSE = sklearn.metrics.mean_squared_error(y_test, y_predict, squared=False)\n",
    "print('RMSE: ', RMSE)"
   ]
  },
  {
   "cell_type": "markdown",
   "metadata": {},
   "source": [
    "SAVE MODEL"
   ]
  },
  {
   "cell_type": "code",
   "execution_count": 4,
   "metadata": {},
   "outputs": [
    {
     "name": "stdout",
     "output_type": "stream",
     "text": [
      "Saving model xgboost__003__03 ...\n",
      "2023_02_25 at 12_35\n",
      "RMSE: 0.5351610305741148\n",
      "              model_id            timestamp          error\n",
      "0   xgboost__first__01  2023_01_06 at 15_52            NaN\n",
      "1   xgboost__first__02  2023_01_30 at 13_10            NaN\n",
      "2   xgboost__first__02  2023_01_30 at 13_11       0.259323\n",
      "3        TF__first__01  2023_01_30 at 14_17  724579.241582\n",
      "4        TF__first__01  2023_01_30 at 14_27       9.875672\n",
      "5     xgboost__001__02  2023_01_31 at 17_05       0.292051\n",
      "6     xgboost__001__02  2023_01_31 at 17_08       0.744116\n",
      "7          TF__001__02  2023_01_31 at 17_45       5.278455\n",
      "8          TF__001__02  2023_01_31 at 17_46       5.278455\n",
      "9     xgboost__001__03  2023_01_31 at 17_57       0.339240\n",
      "10    xgboost__001__03  2023_01_31 at 18_02       0.338606\n",
      "11    xgboost__002__03  2023_02_24 at 18_06       1.016552\n",
      "0     xgboost__003__03  2023_02_25 at 12_35       0.535161\n"
     ]
    },
    {
     "name": "stderr",
     "output_type": "stream",
     "text": [
      "/tmp/ipykernel_12691/4240199680.py:17: FutureWarning: Passing a set as an indexer is deprecated and will raise in a future version. Use a list instead.\n",
      "  overview = overview[{'model_id', 'timestamp', 'error'}]\n"
     ]
    }
   ],
   "source": [
    "model_id = 'xgboost__'+ version_data + '__03'\n",
    "print(f\"Saving model {model_id} ...\")\n",
    "\n",
    "#save model\n",
    "if not os.path.exists(f'../../models/{model_id}'):\n",
    "        os.mkdir(f'../../models/{model_id}')\n",
    "pickle.dump(xgbo, open(f'../../models/{model_id}/model.pkl', 'wb'))\n",
    "\n",
    "#save results\n",
    "timestamp = time.strftime(\"%Y_%m_%d at %H_%M\")\n",
    "print(timestamp)\n",
    "print(f'RMSE: {RMSE}')\n",
    "\n",
    "overview = pd.read_csv('../../models/prediction_overview.csv')\n",
    "new_row = {'model_id': model_id, 'timestamp': timestamp, 'error': RMSE}\n",
    "overview = pd.concat([overview, pd.DataFrame(new_row, index=[0])])\n",
    "overview = overview[{'model_id', 'timestamp', 'error'}]\n",
    "overview.drop_duplicates(inplace=True)\n",
    "print(overview)\n",
    "overview.to_csv('../../models/prediction_overview.csv')"
   ]
  },
  {
   "cell_type": "code",
   "execution_count": 9,
   "metadata": {},
   "outputs": [],
   "source": [
    "############# use to create new version and DELETE OLD VERSIONS #############\n",
    "\n",
    "#overview = pd.DataFrame(columns=['model_id', 'timestamp', 'error'])\n",
    "#overview.to_csv('../models/prediction_overview.csv')"
   ]
  }
 ],
 "metadata": {
  "kernelspec": {
   "display_name": "ML",
   "language": "python",
   "name": "python3"
  },
  "language_info": {
   "codemirror_mode": {
    "name": "ipython",
    "version": 3
   },
   "file_extension": ".py",
   "mimetype": "text/x-python",
   "name": "python",
   "nbconvert_exporter": "python",
   "pygments_lexer": "ipython3",
   "version": "3.10.9"
  },
  "orig_nbformat": 4,
  "vscode": {
   "interpreter": {
    "hash": "6da07facdf973c4dbc8723adb4472dbf7f63b6a0b884708ce567b8eaca67ed69"
   }
  }
 },
 "nbformat": 4,
 "nbformat_minor": 2
}
