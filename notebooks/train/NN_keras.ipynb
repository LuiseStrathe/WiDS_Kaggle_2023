{
 "cells": [
  {
   "attachments": {},
   "cell_type": "markdown",
   "metadata": {},
   "source": [
    "# Neural Network from keras"
   ]
  },
  {
   "cell_type": "code",
   "execution_count": 1,
   "metadata": {},
   "outputs": [
    {
     "name": "stderr",
     "output_type": "stream",
     "text": [
      "2023-02-25 12:35:59.214666: I tensorflow/core/platform/cpu_feature_guard.cc:193] This TensorFlow binary is optimized with oneAPI Deep Neural Network Library (oneDNN) to use the following CPU instructions in performance-critical operations:  SSE4.1 SSE4.2 AVX AVX2 AVX_VNNI FMA\n",
      "To enable them in other operations, rebuild TensorFlow with the appropriate compiler flags.\n"
     ]
    }
   ],
   "source": [
    "#import libraries\n",
    "import numpy as np\n",
    "import pandas as pd\n",
    "import tensorflow as tf\n",
    "from tensorflow import keras\n",
    "import sklearn \n",
    "from sklearn.model_selection import train_test_split\n",
    "import time\n",
    "import os\n",
    "import pickle\n",
    "from keras import models, layers, optimizers, regularizers\n",
    "import matplotlib.pyplot as plt\n",
    "import sklearn"
   ]
  },
  {
   "cell_type": "code",
   "execution_count": 3,
   "metadata": {},
   "outputs": [
    {
     "name": "stdout",
     "output_type": "stream",
     "text": [
      "x_train.shape: (240469, 100)\n",
      "x_val.shape: (60118, 100)\n",
      "x_test.shape: (75147, 100)\n",
      "y_train.shape: (240469, 1)\n",
      "y_val.shape: (60118, 1)\n",
      "y_test.shape: (75147, 1)\n"
     ]
    }
   ],
   "source": [
    "#load data\n",
    "version_data = \"003\"\n",
    "path_data = f'../../data/preprocessed/{version_data}/' \n",
    "(x_test, x_train, y_test, y_train, x_predict) = [np.load(f'{path_data}{f}.npy', allow_pickle=True) \n",
    "                                                for f in ('X_test', 'X_train', 'y_test', 'y_train',  'X_predict')]\n",
    "                                                \n",
    "#split data\n",
    "y_train=np.asarray(y_train)\n",
    "x_train, x_val, y_train, y_val = train_test_split(x_train, y_train, test_size=0.2, random_state=42)  \n",
    "\n",
    "y_train = y_train.reshape((y_train.shape[0],1)) *1\n",
    "y_val = y_val.reshape((y_val.shape[0],1)) *1\n",
    "y_test = y_test.reshape((y_test.shape[0],1)) *1\n",
    "\n",
    "x_train = x_train.reshape((x_train.shape[0], x_train.shape[1])) *1\n",
    "x_val = x_val.reshape((x_val.shape[0], x_val.shape[1])) *1\n",
    "\n",
    "\n",
    "y_train = tf.convert_to_tensor(y_train,dtype=tf.float32)\n",
    "y_val = tf.convert_to_tensor(y_val,dtype=tf.float32)\n",
    "x_train = tf.convert_to_tensor(x_train,dtype=tf.float32)\n",
    "x_val = tf.convert_to_tensor(x_val,dtype=tf.float32)\n",
    "\n",
    "print(f'x_train.shape: {x_train.shape}')\n",
    "print(f'x_val.shape: {x_val.shape}')\n",
    "print(f'x_test.shape: {x_test.shape}')\n",
    "print(f'y_train.shape: {y_train.shape}')\n",
    "print(f'y_val.shape: {y_val.shape}')\n",
    "print(f'y_test.shape: {y_test.shape}')"
   ]
  },
  {
   "cell_type": "markdown",
   "metadata": {},
   "source": [
    "### KERAS\n",
    "--> Deep Neural Network"
   ]
  },
  {
   "cell_type": "markdown",
   "metadata": {},
   "source": [
    "Train model"
   ]
  },
  {
   "cell_type": "code",
   "execution_count": 45,
   "metadata": {},
   "outputs": [
    {
     "name": "stdout",
     "output_type": "stream",
     "text": [
      "Model: \"sequential\"\n",
      "_________________________________________________________________\n",
      " Layer (type)                Output Shape              Param #   \n",
      "=================================================================\n",
      " dense (Dense)               (None, 100)               10100     \n",
      "                                                                 \n",
      " dense_1 (Dense)             (None, 128)               12928     \n",
      "                                                                 \n",
      " dropout (Dropout)           (None, 128)               0         \n",
      "                                                                 \n",
      " dense_2 (Dense)             (None, 64)                8256      \n",
      "                                                                 \n",
      " dropout_1 (Dropout)         (None, 64)                0         \n",
      "                                                                 \n",
      " dense_3 (Dense)             (None, 16)                1040      \n",
      "                                                                 \n",
      " dense_4 (Dense)             (None, 1)                 17        \n",
      "                                                                 \n",
      "=================================================================\n",
      "Total params: 32,341\n",
      "Trainable params: 32,341\n",
      "Non-trainable params: 0\n",
      "_________________________________________________________________\n"
     ]
    }
   ],
   "source": [
    "#define model\n",
    "\n",
    "model = keras.Sequential([\n",
    "                            keras.layers.Dense(x_train.shape[1], activation='tanh', input_shape=[len(x_train[1])]),\n",
    "                            keras.layers.Dense(128, activation='relu'),\n",
    "                            keras.layers.Dropout(0.1),\n",
    "                            keras.layers.Dense(64, activation='relu'),\n",
    "                            keras.layers.Dropout(0.3),\n",
    "                            #keras.layers.Dense(32, activation='relu'),\n",
    "                            #keras.layers.Dropout(0.5),\n",
    "                            keras.layers.Dense(16, activation='relu'),\n",
    "                            keras.layers.Dense(1, activation='linear')\n",
    "                                ])\n",
    "\n",
    "K_RMSE = tf.keras.metrics.RootMeanSquaredError(name='K_RMSE', dtype=None)\n",
    "\n",
    "model.compile(optimizer=tf.keras.optimizers.Adam(learning_rate=0.0005, epsilon=1e-08),\n",
    "                loss='mse',\n",
    "                metrics=[K_RMSE, 'mse'])\n",
    "\n",
    "# Model weights are saved at the end of every epoch,\n",
    "    # if it's the best seen so far.\n",
    "checkpoint_filepath = '../../models/tmp/checkpoint'\n",
    "model_checkpoint_callback = tf.keras.callbacks.ModelCheckpoint(\n",
    "    filepath=checkpoint_filepath,\n",
    "    save_weights_only=True,\n",
    "    monitor='val_K_RMSE',\n",
    "    mode='min',\n",
    "    save_best_only=False)            \n",
    "\n",
    "model.summary()"
   ]
  },
  {
   "cell_type": "code",
   "execution_count": 42,
   "metadata": {},
   "outputs": [
    {
     "name": "stdout",
     "output_type": "stream",
     "text": [
      "Epoch 1/50\n",
      "118/118 [==============================] - 1s 9ms/step - loss: 62.9799 - K_RMSE: 7.9360 - mse: 62.9799 - val_loss: 4.5998 - val_K_RMSE: 2.1447 - val_mse: 4.5998\n",
      "Epoch 2/50\n",
      "118/118 [==============================] - 1s 9ms/step - loss: 8.0336 - K_RMSE: 2.8344 - mse: 8.0336 - val_loss: 2.1129 - val_K_RMSE: 1.4536 - val_mse: 2.1129\n",
      "Epoch 3/50\n",
      "118/118 [==============================] - 1s 9ms/step - loss: 6.0923 - K_RMSE: 2.4682 - mse: 6.0923 - val_loss: 1.6518 - val_K_RMSE: 1.2852 - val_mse: 1.6518\n",
      "Epoch 4/50\n",
      "118/118 [==============================] - 1s 11ms/step - loss: 5.3170 - K_RMSE: 2.3059 - mse: 5.3170 - val_loss: 1.5436 - val_K_RMSE: 1.2424 - val_mse: 1.5436\n",
      "Epoch 5/50\n",
      "118/118 [==============================] - 1s 13ms/step - loss: 4.8253 - K_RMSE: 2.1967 - mse: 4.8253 - val_loss: 1.4171 - val_K_RMSE: 1.1904 - val_mse: 1.4171\n",
      "Epoch 6/50\n",
      "118/118 [==============================] - 1s 12ms/step - loss: 4.4408 - K_RMSE: 2.1073 - mse: 4.4408 - val_loss: 1.5841 - val_K_RMSE: 1.2586 - val_mse: 1.5841\n",
      "Epoch 7/50\n",
      "118/118 [==============================] - 2s 13ms/step - loss: 4.0722 - K_RMSE: 2.0180 - mse: 4.0722 - val_loss: 2.0560 - val_K_RMSE: 1.4339 - val_mse: 2.0560\n",
      "Epoch 8/50\n",
      "118/118 [==============================] - 1s 12ms/step - loss: 3.8239 - K_RMSE: 1.9555 - mse: 3.8239 - val_loss: 2.9230 - val_K_RMSE: 1.7097 - val_mse: 2.9230\n",
      "Epoch 9/50\n",
      "118/118 [==============================] - 1s 13ms/step - loss: 3.6089 - K_RMSE: 1.8997 - mse: 3.6089 - val_loss: 3.8237 - val_K_RMSE: 1.9554 - val_mse: 3.8237\n",
      "Epoch 10/50\n",
      "118/118 [==============================] - 2s 13ms/step - loss: 3.3354 - K_RMSE: 1.8263 - mse: 3.3354 - val_loss: 5.3034 - val_K_RMSE: 2.3029 - val_mse: 5.3034\n",
      "Epoch 11/50\n",
      "118/118 [==============================] - 2s 14ms/step - loss: 3.0451 - K_RMSE: 1.7450 - mse: 3.0451 - val_loss: 7.4596 - val_K_RMSE: 2.7312 - val_mse: 7.4596\n",
      "Epoch 12/50\n",
      "118/118 [==============================] - 2s 13ms/step - loss: 2.7782 - K_RMSE: 1.6668 - mse: 2.7782 - val_loss: 8.8705 - val_K_RMSE: 2.9783 - val_mse: 8.8705\n",
      "Epoch 13/50\n",
      "118/118 [==============================] - 2s 13ms/step - loss: 2.5421 - K_RMSE: 1.5944 - mse: 2.5421 - val_loss: 10.3272 - val_K_RMSE: 3.2136 - val_mse: 10.3272\n",
      "Epoch 14/50\n",
      "118/118 [==============================] - 2s 14ms/step - loss: 2.3148 - K_RMSE: 1.5214 - mse: 2.3148 - val_loss: 12.6727 - val_K_RMSE: 3.5599 - val_mse: 12.6727\n",
      "Epoch 15/50\n",
      "118/118 [==============================] - 2s 16ms/step - loss: 2.1887 - K_RMSE: 1.4794 - mse: 2.1887 - val_loss: 14.3453 - val_K_RMSE: 3.7875 - val_mse: 14.3453\n",
      "Epoch 16/50\n",
      "118/118 [==============================] - 2s 13ms/step - loss: 2.0828 - K_RMSE: 1.4432 - mse: 2.0828 - val_loss: 15.4448 - val_K_RMSE: 3.9300 - val_mse: 15.4448\n",
      "Epoch 17/50\n",
      "118/118 [==============================] - 2s 14ms/step - loss: 2.0067 - K_RMSE: 1.4166 - mse: 2.0067 - val_loss: 15.7537 - val_K_RMSE: 3.9691 - val_mse: 15.7537\n",
      "Epoch 18/50\n",
      "118/118 [==============================] - 2s 13ms/step - loss: 1.9133 - K_RMSE: 1.3832 - mse: 1.9133 - val_loss: 17.0564 - val_K_RMSE: 4.1299 - val_mse: 17.0564\n",
      "Epoch 19/50\n",
      "118/118 [==============================] - 2s 14ms/step - loss: 1.8356 - K_RMSE: 1.3549 - mse: 1.8356 - val_loss: 18.6045 - val_K_RMSE: 4.3133 - val_mse: 18.6045\n",
      "Epoch 20/50\n",
      "118/118 [==============================] - 2s 14ms/step - loss: 1.7702 - K_RMSE: 1.3305 - mse: 1.7702 - val_loss: 18.7913 - val_K_RMSE: 4.3349 - val_mse: 18.7913\n",
      "Epoch 21/50\n",
      "118/118 [==============================] - 2s 13ms/step - loss: 1.7052 - K_RMSE: 1.3059 - mse: 1.7052 - val_loss: 18.6806 - val_K_RMSE: 4.3221 - val_mse: 18.6806\n",
      "Epoch 22/50\n",
      "118/118 [==============================] - 2s 14ms/step - loss: 1.6185 - K_RMSE: 1.2722 - mse: 1.6185 - val_loss: 20.1122 - val_K_RMSE: 4.4847 - val_mse: 20.1122\n",
      "Epoch 23/50\n",
      "118/118 [==============================] - 2s 14ms/step - loss: 1.5412 - K_RMSE: 1.2414 - mse: 1.5412 - val_loss: 19.4335 - val_K_RMSE: 4.4083 - val_mse: 19.4335\n",
      "Epoch 24/50\n",
      "118/118 [==============================] - 2s 14ms/step - loss: 1.4655 - K_RMSE: 1.2106 - mse: 1.4655 - val_loss: 20.2903 - val_K_RMSE: 4.5045 - val_mse: 20.2903\n",
      "Epoch 25/50\n",
      "118/118 [==============================] - 2s 15ms/step - loss: 1.3839 - K_RMSE: 1.1764 - mse: 1.3839 - val_loss: 20.0471 - val_K_RMSE: 4.4774 - val_mse: 20.0471\n",
      "Epoch 26/50\n",
      "118/118 [==============================] - 2s 15ms/step - loss: 1.3261 - K_RMSE: 1.1515 - mse: 1.3261 - val_loss: 19.5842 - val_K_RMSE: 4.4254 - val_mse: 19.5842\n",
      "Epoch 27/50\n",
      "118/118 [==============================] - 2s 13ms/step - loss: 1.2844 - K_RMSE: 1.1333 - mse: 1.2844 - val_loss: 19.6603 - val_K_RMSE: 4.4340 - val_mse: 19.6603\n",
      "Epoch 28/50\n",
      "118/118 [==============================] - 2s 14ms/step - loss: 1.2424 - K_RMSE: 1.1146 - mse: 1.2424 - val_loss: 19.1276 - val_K_RMSE: 4.3735 - val_mse: 19.1276\n",
      "Epoch 29/50\n",
      "118/118 [==============================] - 2s 14ms/step - loss: 1.2050 - K_RMSE: 1.0977 - mse: 1.2050 - val_loss: 19.3910 - val_K_RMSE: 4.4035 - val_mse: 19.3910\n",
      "Epoch 30/50\n",
      "118/118 [==============================] - 2s 14ms/step - loss: 1.1695 - K_RMSE: 1.0814 - mse: 1.1695 - val_loss: 19.2988 - val_K_RMSE: 4.3930 - val_mse: 19.2988\n",
      "Epoch 31/50\n",
      "118/118 [==============================] - 2s 15ms/step - loss: 1.1402 - K_RMSE: 1.0678 - mse: 1.1402 - val_loss: 19.8626 - val_K_RMSE: 4.4568 - val_mse: 19.8626\n",
      "Epoch 32/50\n",
      "118/118 [==============================] - 2s 14ms/step - loss: 1.1173 - K_RMSE: 1.0570 - mse: 1.1173 - val_loss: 19.2820 - val_K_RMSE: 4.3911 - val_mse: 19.2820\n",
      "Epoch 33/50\n",
      "118/118 [==============================] - 2s 14ms/step - loss: 1.0882 - K_RMSE: 1.0432 - mse: 1.0882 - val_loss: 19.2118 - val_K_RMSE: 4.3831 - val_mse: 19.2118\n",
      "Epoch 34/50\n",
      "118/118 [==============================] - 2s 13ms/step - loss: 1.0607 - K_RMSE: 1.0299 - mse: 1.0607 - val_loss: 20.2681 - val_K_RMSE: 4.5020 - val_mse: 20.2681\n",
      "Epoch 35/50\n",
      "118/118 [==============================] - 2s 15ms/step - loss: 1.0318 - K_RMSE: 1.0158 - mse: 1.0318 - val_loss: 19.6516 - val_K_RMSE: 4.4330 - val_mse: 19.6516\n",
      "Epoch 36/50\n",
      "118/118 [==============================] - 2s 14ms/step - loss: 1.0095 - K_RMSE: 1.0048 - mse: 1.0095 - val_loss: 19.6454 - val_K_RMSE: 4.4323 - val_mse: 19.6454\n",
      "Epoch 37/50\n",
      "118/118 [==============================] - 2s 16ms/step - loss: 0.9868 - K_RMSE: 0.9934 - mse: 0.9868 - val_loss: 20.0033 - val_K_RMSE: 4.4725 - val_mse: 20.0033\n",
      "Epoch 38/50\n",
      "118/118 [==============================] - 2s 15ms/step - loss: 0.9649 - K_RMSE: 0.9823 - mse: 0.9649 - val_loss: 19.9105 - val_K_RMSE: 4.4621 - val_mse: 19.9105\n",
      "Epoch 39/50\n",
      "118/118 [==============================] - 2s 15ms/step - loss: 0.9421 - K_RMSE: 0.9706 - mse: 0.9421 - val_loss: 19.7945 - val_K_RMSE: 4.4491 - val_mse: 19.7945\n",
      "Epoch 40/50\n",
      "118/118 [==============================] - 2s 15ms/step - loss: 0.9227 - K_RMSE: 0.9606 - mse: 0.9227 - val_loss: 20.0172 - val_K_RMSE: 4.4741 - val_mse: 20.0172\n",
      "Epoch 41/50\n",
      "118/118 [==============================] - 2s 14ms/step - loss: 0.9066 - K_RMSE: 0.9522 - mse: 0.9066 - val_loss: 20.7929 - val_K_RMSE: 4.5599 - val_mse: 20.7929\n",
      "Epoch 42/50\n",
      "118/118 [==============================] - 2s 14ms/step - loss: 0.8915 - K_RMSE: 0.9442 - mse: 0.8915 - val_loss: 19.9711 - val_K_RMSE: 4.4689 - val_mse: 19.9711\n",
      "Epoch 43/50\n",
      "118/118 [==============================] - 2s 13ms/step - loss: 0.8726 - K_RMSE: 0.9341 - mse: 0.8726 - val_loss: 21.2044 - val_K_RMSE: 4.6048 - val_mse: 21.2044\n",
      "Epoch 44/50\n",
      "118/118 [==============================] - 2s 14ms/step - loss: 0.8591 - K_RMSE: 0.9269 - mse: 0.8591 - val_loss: 20.4793 - val_K_RMSE: 4.5254 - val_mse: 20.4793\n",
      "Epoch 45/50\n",
      "118/118 [==============================] - 2s 15ms/step - loss: 0.8470 - K_RMSE: 0.9203 - mse: 0.8470 - val_loss: 20.4214 - val_K_RMSE: 4.5190 - val_mse: 20.4214\n",
      "Epoch 46/50\n",
      "118/118 [==============================] - 2s 13ms/step - loss: 0.8303 - K_RMSE: 0.9112 - mse: 0.8303 - val_loss: 20.5541 - val_K_RMSE: 4.5337 - val_mse: 20.5541\n",
      "Epoch 47/50\n",
      "118/118 [==============================] - 2s 13ms/step - loss: 0.8168 - K_RMSE: 0.9038 - mse: 0.8168 - val_loss: 20.3978 - val_K_RMSE: 4.5164 - val_mse: 20.3978\n",
      "Epoch 48/50\n",
      "118/118 [==============================] - 2s 14ms/step - loss: 0.8000 - K_RMSE: 0.8945 - mse: 0.8000 - val_loss: 21.1630 - val_K_RMSE: 4.6003 - val_mse: 21.1630\n",
      "Epoch 49/50\n",
      "118/118 [==============================] - 2s 15ms/step - loss: 0.7858 - K_RMSE: 0.8864 - mse: 0.7858 - val_loss: 20.9333 - val_K_RMSE: 4.5753 - val_mse: 20.9333\n",
      "Epoch 50/50\n",
      "118/118 [==============================] - 2s 15ms/step - loss: 0.7763 - K_RMSE: 0.8811 - mse: 0.7763 - val_loss: 20.3285 - val_K_RMSE: 4.5087 - val_mse: 20.3285\n",
      "Training duration: 80.55439233779907 sec\n"
     ]
    },
    {
     "data": {
      "text/plain": [
       "<tensorflow.python.checkpoint.checkpoint.CheckpointLoadStatus at 0x7f52a49d4580>"
      ]
     },
     "execution_count": 42,
     "metadata": {},
     "output_type": "execute_result"
    }
   ],
   "source": [
    "tf.keras.backend.clear_session()\n",
    "start_time = time.time()  #track the model development time\n",
    "history = model.fit(x_train, y_train, validation_data=(x_val, y_val), epochs=50, callbacks=[model_checkpoint_callback], batch_size=2048)\n",
    "end_time = time.time()\n",
    "duration = end_time - start_time\n",
    "print(\"Training duration: %s sec\" % (duration)) \n",
    "model.load_weights(checkpoint_filepath)"
   ]
  },
  {
   "cell_type": "code",
   "execution_count": 43,
   "metadata": {},
   "outputs": [
    {
     "name": "stdout",
     "output_type": "stream",
     "text": [
      "2349/2349 [==============================] - 2s 651us/step\n",
      "RMSE (test):  4.500194984868996\n"
     ]
    }
   ],
   "source": [
    "#predict\n",
    "y_predict = model.predict(x_test)\n",
    "RMSE = sklearn.metrics.mean_squared_error(y_test, y_predict, squared=False)\n",
    "print('RMSE (test): ', RMSE)"
   ]
  },
  {
   "cell_type": "code",
   "execution_count": 44,
   "metadata": {},
   "outputs": [
    {
     "data": {
      "image/png": "[encoded data removed]",
      "text/plain": [
       "<Figure size 640x480 with 1 Axes>"
      ]
     },
     "metadata": {},
     "output_type": "display_data"
    },
    {
     "data": {
      "image/png": "[encoded data removed]",
      "text/plain": [
       "<Figure size 640x480 with 1 Axes>"
      ]
     },
     "metadata": {},
     "output_type": "display_data"
    }
   ],
   "source": [
    "for metric in ['K_RMSE', 'mse']:\n",
    "    plt.plot(history.history[metric], label=metric)\n",
    "    plt.plot(history.history['val_' + metric], label='val_' + metric)\n",
    "    plt.legend()\n",
    "    plt.title(f\"{metric}\")\n",
    "    plt.show()\n",
    "\n",
    "tf.keras.backend.clear_session()"
   ]
  },
  {
   "cell_type": "markdown",
   "metadata": {},
   "source": [
    "SAVE MODEL"
   ]
  },
  {
   "cell_type": "code",
   "execution_count": 19,
   "metadata": {},
   "outputs": [
    {
     "name": "stdout",
     "output_type": "stream",
     "text": [
      "Saving model TF__001__02 ...\n",
      "INFO:tensorflow:Assets written to: ram://baeaff04-d1f8-4c1d-8bd9-c184b019f577/assets\n",
      "2023_01_31 at 17_46\n",
      "RMSE: 5.2784550038315\n",
      "             model_id            timestamp          error\n",
      "0  xgboost__first__01  2023_01_06 at 15_52            NaN\n",
      "1  xgboost__first__02  2023_01_30 at 13_10            NaN\n",
      "2  xgboost__first__02  2023_01_30 at 13_11       0.259323\n",
      "3       TF__first__01  2023_01_30 at 14_17  724579.241582\n",
      "4       TF__first__01  2023_01_30 at 14_27       9.875672\n",
      "5    xgboost__001__02  2023_01_31 at 17_05       0.292051\n",
      "6    xgboost__001__02  2023_01_31 at 17_08       0.744116\n",
      "7         TF__001__02  2023_01_31 at 17_45       5.278455\n",
      "0         TF__001__02  2023_01_31 at 17_46       5.278455\n"
     ]
    },
    {
     "name": "stderr",
     "output_type": "stream",
     "text": [
      "/tmp/ipykernel_10649/1350543180.py:17: FutureWarning: Passing a set as an indexer is deprecated and will raise in a future version. Use a list instead.\n",
      "  overview = overview[{'model_id', 'timestamp', 'error'}]\n"
     ]
    }
   ],
   "source": [
    "model_id = 'TF__'+ version_data + '__02'\n",
    "print(f\"Saving model {model_id} ...\")\n",
    "\n",
    "#save model\n",
    "if not os.path.exists(f'../../models/{model_id}'):\n",
    "        os.mkdir(f'../../models/{model_id}')\n",
    "pickle.dump(model, open(f'../../models/{model_id}/model.pkl', 'wb'))\n",
    "\n",
    "#save results\n",
    "timestamp = time.strftime(\"%Y_%m_%d at %H_%M\")\n",
    "print(timestamp)\n",
    "print(f'RMSE: {RMSE}')\n",
    "\n",
    "overview = pd.read_csv('../../models/prediction_overview.csv')\n",
    "new_row = {'model_id': model_id, 'timestamp': timestamp, 'error': RMSE}\n",
    "overview = pd.concat([overview, pd.DataFrame(new_row, index=[0])])\n",
    "overview = overview[{'model_id', 'timestamp', 'error'}]\n",
    "overview.drop_duplicates(inplace=True)\n",
    "print(overview)\n",
    "overview.to_csv('../../models/prediction_overview.csv')"
   ]
  }
 ],
 "metadata": {
  "kernelspec": {
   "display_name": "ML",
   "language": "python",
   "name": "python3"
  },
  "language_info": {
   "codemirror_mode": {
    "name": "ipython",
    "version": 3
   },
   "file_extension": ".py",
   "mimetype": "text/x-python",
   "name": "python",
   "nbconvert_exporter": "python",
   "pygments_lexer": "ipython3",
   "version": "3.10.9"
  },
  "orig_nbformat": 4,
  "vscode": {
   "interpreter": {
    "hash": "6da07facdf973c4dbc8723adb4472dbf7f63b6a0b884708ce567b8eaca67ed69"
   }
  }
 },
 "nbformat": 4,
 "nbformat_minor": 2
}
